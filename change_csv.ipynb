{
 "cells": [
  {
   "cell_type": "code",
   "execution_count": 1,
   "id": "bbc8657d",
   "metadata": {},
   "outputs": [],
   "source": [
    "import pandas as pd"
   ]
  },
  {
   "cell_type": "code",
   "execution_count": 21,
   "id": "9f69b25e",
   "metadata": {},
   "outputs": [
    {
     "name": "stderr",
     "output_type": "stream",
     "text": [
      "/var/folders/hc/3xpjq4rs4qq1sf838pqb80780000gn/T/ipykernel_69483/3629921984.py:8: FutureWarning: The argument 'infer_datetime_format' is deprecated and will be removed in a future version. A strict version of it is now the default, see https://pandas.pydata.org/pdeps/0004-consistent-to-datetime-parsing.html. You can safely remove this argument.\n",
      "  df = pd.read_csv(\"../database_merge/user_raw.csv\", parse_dates=True, infer_datetime_format=True, dtype={\"country_code\": \"string\"})\n"
     ]
    }
   ],
   "source": [
    "import pandas as pd\n",
    "def convert_0_1_to_bool(df, columns):\n",
    "    for col in columns:\n",
    "        if col in df.columns:\n",
    "            df[col] = df[col].map({0: False, 1: True}).fillna(df[col])\n",
    "    return df\n",
    "# Load the CSV\n",
    "df = pd.read_csv(\"../database_merge/user_raw.csv\", parse_dates=True, infer_datetime_format=True, dtype={\"country_code\": \"string\"})\n",
    "\n",
    "df[\"phone_number\"] = df[\"phone_number\"].astype(\"Int64\")\n",
    "df[\"reset_code\"] = df[\"reset_code\"].astype(\"Int64\")\n",
    "# Columns you know hold datetime info\n",
    "datetime_columns = [\"last_modified_at\", \"created_at\", \"last_modified_at\", \"reset_code_expiry\"]\n",
    "\n",
    "for col in datetime_columns:\n",
    "    if col in df.columns:\n",
    "        # Parse to datetime\n",
    "        df[col] = pd.to_datetime(df[col], errors='coerce')\n",
    "        # Localize or convert to UTC\n",
    "        if df[col].dt.tz is None:\n",
    "            df[col] = df[col].dt.tz_localize('UTC')\n",
    "        else:\n",
    "            df[col] = df[col].dt.tz_convert('UTC')\n",
    "\n",
    "# boolean_columns = [\"used\"]\n",
    "# df = convert_0_1_to_bool(df, boolean_columns)\n",
    "\n",
    "df[\"preferences\"] = None\n",
    "df[\"last_active\"] = None\n",
    "\n",
    "column_order = [\n",
    "    \"id\",\n",
    "    \"email\",\n",
    "    \"first_name\",\n",
    "    \"created_at\",\n",
    "    \"last_active\",\n",
    "    \"preferences\",\n",
    "    \"hashed_password\",\n",
    "    \"id_token\",\n",
    "    \"token_version\",\n",
    "    \"last_name\",\n",
    "    \"company_name\",\n",
    "    \"employee_id\",\n",
    "    \"phone_number\",\n",
    "    \"country_code\",\n",
    "    \"geographic_location\",\n",
    "    \"email_verified\",\n",
    "    \"reset_code\",\n",
    "    \"reset_code_expiry\",\n",
    "    \"industry_field\",\n",
    "    \"last_modified_at\"\n",
    "]\n",
    "\n",
    "df = df[column_order]\n",
    "\n",
    "# Save back to CSV if needed\n",
    "df.to_csv(\"../database_merge/user.csv\", index=False, header=False)"
   ]
  },
  {
   "cell_type": "code",
   "execution_count": null,
   "id": "a5cc7026",
   "metadata": {},
   "outputs": [
    {
     "name": "stderr",
     "output_type": "stream",
     "text": [
      "/var/folders/hc/3xpjq4rs4qq1sf838pqb80780000gn/T/ipykernel_69483/2425771898.py:8: FutureWarning: The argument 'infer_datetime_format' is deprecated and will be removed in a future version. A strict version of it is now the default, see https://pandas.pydata.org/pdeps/0004-consistent-to-datetime-parsing.html. You can safely remove this argument.\n",
      "  df = pd.read_csv(\"../database_merge/chat_sessions_raw.csv\", parse_dates=True, infer_datetime_format=True, dtype={\"country_code\": \"string\"})\n"
     ]
    }
   ],
   "source": [
    "import pandas as pd\n",
    "def convert_0_1_to_bool(df, columns):\n",
    "    for col in columns:\n",
    "        if col in df.columns:\n",
    "            df[col] = df[col].map({0: False, 1: True}).fillna(df[col])\n",
    "    return df\n",
    "# Load the CSV\n",
    "df = pd.read_csv(\"../database_merge/chat_sessions_raw.csv\", parse_dates=True, infer_datetime_format=True, dtype={\"country_code\": \"string\"})\n",
    "\n",
    "# Columns you know hold datetime info\n",
    "datetime_columns = [\"created_at\"]\n",
    "\n",
    "for col in datetime_columns:\n",
    "    if col in df.columns:\n",
    "        # Parse to datetime\n",
    "        df[col] = pd.to_datetime(df[col], errors='coerce')\n",
    "        # Localize or convert to UTC\n",
    "        if df[col].dt.tz is None:\n",
    "            df[col] = df[col].dt.tz_localize('UTC')\n",
    "        else:\n",
    "            df[col] = df[col].dt.tz_convert('UTC')\n",
    "\n",
    "# boolean_columns = [\"used\"]\n",
    "# df = convert_0_1_to_bool(df, boolean_columns)\n",
    "\n",
    "df['updated_at']= None\n",
    "df['expires_at']= None\n",
    "df['is_active']= None\n",
    "df['current_memory_id']= None\n",
    "df['message_count']= None\n",
    "column_order = [\n",
    "    \"session_id\",\n",
    "    \"user_id\",\n",
    "    \"session_name\",\n",
    "    \"created_at\",\n",
    "    \"updated_at\",\n",
    "    \"expires_at\",\n",
    "    \"is_active\",\n",
    "    \"current_memory_id\",\n",
    "    \"message_count\",\n",
    "    \"starred\"\n",
    "]\n",
    "\n",
    "df = df[column_order]\n",
    "\n",
    "# Save back to CSV if needed\n",
    "df.to_csv(\"../database_merge/chat_sessions.csv\", index=False, header=False)"
   ]
  },
  {
   "cell_type": "code",
   "execution_count": 26,
   "id": "0d91494a",
   "metadata": {},
   "outputs": [
    {
     "name": "stderr",
     "output_type": "stream",
     "text": [
      "/var/folders/hc/3xpjq4rs4qq1sf838pqb80780000gn/T/ipykernel_69483/177863521.py:8: FutureWarning: The argument 'infer_datetime_format' is deprecated and will be removed in a future version. A strict version of it is now the default, see https://pandas.pydata.org/pdeps/0004-consistent-to-datetime-parsing.html. You can safely remove this argument.\n",
      "  df = pd.read_csv(\"../database_merge/chat_messages_raw.csv\", parse_dates=True, infer_datetime_format=True)\n"
     ]
    }
   ],
   "source": [
    "import pandas as pd\n",
    "def convert_0_1_to_bool(df, columns):\n",
    "    for col in columns:\n",
    "        if col in df.columns:\n",
    "            df[col] = df[col].map({0: False, 1: True}).fillna(df[col])\n",
    "    return df\n",
    "# Load the CSV\n",
    "df = pd.read_csv(\"../database_merge/chat_messages_raw.csv\", parse_dates=True, infer_datetime_format=True)\n",
    "df[\"reply_to\"] = df[\"reply_to\"].astype(\"Int64\")\n",
    "# Columns you know hold datetime info\n",
    "datetime_columns = [\"created_at\"]\n",
    "\n",
    "for col in datetime_columns:\n",
    "    if col in df.columns:\n",
    "        # Parse to datetime\n",
    "        df[col] = pd.to_datetime(df[col], errors='coerce')\n",
    "        # Localize or convert to UTC\n",
    "        if df[col].dt.tz is None:\n",
    "            df[col] = df[col].dt.tz_localize('UTC')\n",
    "        else:\n",
    "            df[col] = df[col].dt.tz_convert('UTC')\n",
    "\n",
    "# boolean_columns = [\"used\"]\n",
    "# df = convert_0_1_to_bool(df, boolean_columns)\n",
    "\n",
    "df['message_order']= None\n",
    "df['is_summarized']= False\n",
    "df['type']= None\n",
    "column_order = [\n",
    "    \"id\",\n",
    "    \"session_id\",\n",
    "    \"sender\",\n",
    "    \"content\",\n",
    "    \"created_at\",\n",
    "    \"message_order\",\n",
    "    \"is_summarized\",\n",
    "    \"reply_to\",\n",
    "    \"type\"\n",
    "\n",
    "]\n",
    "\n",
    "df = df[column_order]\n",
    "\n",
    "# Save back to CSV if needed\n",
    "df.to_csv(\"../database_merge/chat_messages.csv\", index=False, header=False)"
   ]
  },
  {
   "cell_type": "code",
   "execution_count": null,
   "id": "5c161ff5",
   "metadata": {},
   "outputs": [],
   "source": []
  }
 ],
 "metadata": {
  "kernelspec": {
   "display_name": "general",
   "language": "python",
   "name": "python3"
  },
  "language_info": {
   "codemirror_mode": {
    "name": "ipython",
    "version": 3
   },
   "file_extension": ".py",
   "mimetype": "text/x-python",
   "name": "python",
   "nbconvert_exporter": "python",
   "pygments_lexer": "ipython3",
   "version": "3.11.4"
  }
 },
 "nbformat": 4,
 "nbformat_minor": 5
}
